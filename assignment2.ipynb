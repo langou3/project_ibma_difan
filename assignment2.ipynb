{
 "cells": [
  {
   "cell_type": "code",
   "execution_count": 7,
   "id": "aec56e9e-78f0-4e3a-a981-d92e7f5b33bb",
   "metadata": {},
   "outputs": [
    {
     "data": {
      "application/vnd.jupyter.widget-view+json": {
       "model_id": "",
       "version_major": 2,
       "version_minor": 0
      },
      "text/plain": [
       "FloatProgress(value=0.0, bar_style='info', description='Progress:', layout=Layout(height='25px', width='50%'),…"
      ]
     },
     "metadata": {},
     "output_type": "display_data"
    }
   ],
   "source": [
    "from pyspark.sql import SparkSession\n",
    "from pyspark.sql.functions import col, avg, count,sum, when\n",
    "spark = SparkSession.builder.appName(\"Generate Features\").getOrCreate()\n"
   ]
  },
  {
   "cell_type": "code",
   "execution_count": 8,
   "id": "ee009225-38fe-472b-983c-c5876a29be33",
   "metadata": {},
   "outputs": [
    {
     "data": {
      "application/vnd.jupyter.widget-view+json": {
       "model_id": "",
       "version_major": 2,
       "version_minor": 0
      },
      "text/plain": [
       "FloatProgress(value=0.0, bar_style='info', description='Progress:', layout=Layout(height='25px', width='50%'),…"
      ]
     },
     "metadata": {},
     "output_type": "display_data"
    },
    {
     "name": "stdout",
     "output_type": "stream",
     "text": [
      "Schema of the CSV file:\n",
      "root\n",
      " |-- order_id: string (nullable = true)\n",
      " |-- user_id: string (nullable = true)\n",
      " |-- eval_set: string (nullable = true)\n",
      " |-- order_number: string (nullable = true)\n",
      " |-- order_dow: string (nullable = true)\n",
      " |-- order_hour_of_day: string (nullable = true)\n",
      " |-- days_since_prior_order: string (nullable = true)"
     ]
    }
   ],
   "source": [
    "orders = spark.read.csv(\"jupyter_workspace/archive/orders/orders.csv\",header=  True )\n",
    "print(\"Schema of the CSV file:\")\n",
    "orders.printSchema()"
   ]
  },
  {
   "cell_type": "code",
   "execution_count": 9,
   "id": "4e35f88f-fa91-4804-b92c-b4a58d6a55f9",
   "metadata": {},
   "outputs": [
    {
     "data": {
      "application/vnd.jupyter.widget-view+json": {
       "model_id": "",
       "version_major": 2,
       "version_minor": 0
      },
      "text/plain": [
       "FloatProgress(value=0.0, bar_style='info', description='Progress:', layout=Layout(height='25px', width='50%'),…"
      ]
     },
     "metadata": {},
     "output_type": "display_data"
    },
    {
     "name": "stdout",
     "output_type": "stream",
     "text": [
      "Schema of the CSV file:\n",
      "root\n",
      " |-- order_id: string (nullable = true)\n",
      " |-- product_id: string (nullable = true)\n",
      " |-- add_to_cart_order: string (nullable = true)\n",
      " |-- reordered: string (nullable = true)"
     ]
    }
   ],
   "source": [
    "order_products = spark.read.csv(\"jupyter_workspace/archive/order_products/\",header=  True )\n",
    "print(\"Schema of the CSV file:\")\n",
    "order_products.printSchema()"
   ]
  },
  {
   "cell_type": "code",
   "execution_count": 10,
   "id": "4c4707ef-20a4-48cc-82ed-044403014fee",
   "metadata": {},
   "outputs": [
    {
     "data": {
      "application/vnd.jupyter.widget-view+json": {
       "model_id": "",
       "version_major": 2,
       "version_minor": 0
      },
      "text/plain": [
       "FloatProgress(value=0.0, bar_style='info', description='Progress:', layout=Layout(height='25px', width='50%'),…"
      ]
     },
     "metadata": {},
     "output_type": "display_data"
    }
   ],
   "source": [
    "orders.createOrReplaceTempView(\"orders\")\n",
    "order_products.createOrReplaceTempView(\"order_products\")"
   ]
  },
  {
   "cell_type": "code",
   "execution_count": 12,
   "id": "69ab3874-427a-43ac-9aa1-32a8bf1f4932",
   "metadata": {},
   "outputs": [
    {
     "data": {
      "application/vnd.jupyter.widget-view+json": {
       "model_id": "",
       "version_major": 2,
       "version_minor": 0
      },
      "text/plain": [
       "FloatProgress(value=0.0, bar_style='info', description='Progress:', layout=Layout(height='25px', width='50%'),…"
      ]
     },
     "metadata": {},
     "output_type": "display_data"
    }
   ],
   "source": [
    "order_products_prior = spark.sql(\"SELECT a.*, \\\n",
    "            b.product_id, \\\n",
    "            b.add_to_cart_order, \\\n",
    "            b.reordered \\\n",
    "            FROM orders a \\\n",
    "            JOIN order_products b \\\n",
    "            ON a.order_id = b.order_id \\\n",
    "            WHERE a.eval_set = 'prior' \") \n",
    "\n",
    "order_products_prior.coalesce(5).write.mode(\"overwrite\").parquet(\"jupyter_workspace/archive/output/\")\n"
   ]
  },
  {
   "cell_type": "code",
   "execution_count": 13,
   "id": "240fb012-701f-440a-9bb0-c423969401ec",
   "metadata": {},
   "outputs": [
    {
     "data": {
      "application/vnd.jupyter.widget-view+json": {
       "model_id": "",
       "version_major": 2,
       "version_minor": 0
      },
      "text/plain": [
       "FloatProgress(value=0.0, bar_style='info', description='Progress:', layout=Layout(height='25px', width='50%'),…"
      ]
     },
     "metadata": {},
     "output_type": "display_data"
    },
    {
     "name": "stdout",
     "output_type": "stream",
     "text": [
      "+--------+-------+--------+------------+---------+-----------------+----------------------+\n",
      "|order_id|user_id|eval_set|order_number|order_dow|order_hour_of_day|days_since_prior_order|\n",
      "+--------+-------+--------+------------+---------+-----------------+----------------------+\n",
      "| 2539329|      1|   prior|           1|        2|               08|                  null|\n",
      "| 2398795|      1|   prior|           2|        3|               07|                  15.0|\n",
      "|  473747|      1|   prior|           3|        3|               12|                  21.0|\n",
      "| 2254736|      1|   prior|           4|        4|               07|                  29.0|\n",
      "|  431534|      1|   prior|           5|        4|               15|                  28.0|\n",
      "+--------+-------+--------+------------+---------+-----------------+----------------------+\n",
      "only showing top 5 rows"
     ]
    }
   ],
   "source": [
    "orders.show(5)"
   ]
  },
  {
   "cell_type": "code",
   "execution_count": 18,
   "id": "9740dfa1-6db5-4d87-b607-6a46c3258f2f",
   "metadata": {},
   "outputs": [
    {
     "data": {
      "application/vnd.jupyter.widget-view+json": {
       "model_id": "",
       "version_major": 2,
       "version_minor": 0
      },
      "text/plain": [
       "FloatProgress(value=0.0, bar_style='info', description='Progress:', layout=Layout(height='25px', width='50%'),…"
      ]
     },
     "metadata": {},
     "output_type": "display_data"
    }
   ],
   "source": [
    "user_features_1 = spark.sql(\"\"\"\n",
    "    SELECT \n",
    "        a.user_id, \n",
    "        MAX(a.order_number) AS max_order_number, \n",
    "        SUM(a.days_since_prior_order) AS total_days_since_prior_order, \n",
    "        ROUND (AVG(a.days_since_prior_order), 2) AS avg_days_since_prior_order\n",
    "    FROM orders a\n",
    "    GROUP BY a.user_id\n",
    "\"\"\")"
   ]
  },
  {
   "cell_type": "code",
   "execution_count": 19,
   "id": "5c3898d7-7510-4442-8e75-b65ccdfda65f",
   "metadata": {},
   "outputs": [
    {
     "data": {
      "application/vnd.jupyter.widget-view+json": {
       "model_id": "",
       "version_major": 2,
       "version_minor": 0
      },
      "text/plain": [
       "FloatProgress(value=0.0, bar_style='info', description='Progress:', layout=Layout(height='25px', width='50%'),…"
      ]
     },
     "metadata": {},
     "output_type": "display_data"
    },
    {
     "name": "stdout",
     "output_type": "stream",
     "text": [
      "+-------+----------------+----------------------------+--------------------------+\n",
      "|user_id|max_order_number|total_days_since_prior_order|avg_days_since_prior_order|\n",
      "+-------+----------------+----------------------------+--------------------------+\n",
      "| 100005|               9|                       270.0|                      15.0|\n",
      "| 100014|               4|                        66.0|                      22.0|\n",
      "| 100025|               4|                        90.0|                      30.0|\n",
      "| 100040|               9|                       313.0|                     24.08|\n",
      "| 100072|               9|                       259.0|                      8.93|\n",
      "+-------+----------------+----------------------------+--------------------------+\n",
      "only showing top 5 rows"
     ]
    }
   ],
   "source": [
    "user_features_1.show(5)"
   ]
  },
  {
   "cell_type": "code",
   "execution_count": 22,
   "id": "064f9731-94ff-4d76-acaa-7bf05901b1c4",
   "metadata": {},
   "outputs": [
    {
     "data": {
      "application/vnd.jupyter.widget-view+json": {
       "model_id": "",
       "version_major": 2,
       "version_minor": 0
      },
      "text/plain": [
       "FloatProgress(value=0.0, bar_style='info', description='Progress:', layout=Layout(height='25px', width='50%'),…"
      ]
     },
     "metadata": {},
     "output_type": "display_data"
    },
    {
     "name": "stdout",
     "output_type": "stream",
     "text": [
      "root\n",
      " |-- order_id: string (nullable = true)\n",
      " |-- user_id: string (nullable = true)\n",
      " |-- eval_set: string (nullable = true)\n",
      " |-- order_number: string (nullable = true)\n",
      " |-- order_dow: string (nullable = true)\n",
      " |-- order_hour_of_day: string (nullable = true)\n",
      " |-- days_since_prior_order: string (nullable = true)\n",
      " |-- product_id: string (nullable = true)\n",
      " |-- add_to_cart_order: string (nullable = true)\n",
      " |-- reordered: string (nullable = true)"
     ]
    }
   ],
   "source": [
    "order_products_prior = spark.read.parquet(\"jupyter_workspace/archive/output/\" )\n",
    "order_products_prior.createOrReplaceTempView(\"order_products_prior\")\n",
    "order_products_prior.printSchema()"
   ]
  },
  {
   "cell_type": "code",
   "execution_count": 28,
   "id": "82949b06-80a7-400c-b819-947ae6d63c27",
   "metadata": {},
   "outputs": [
    {
     "data": {
      "application/vnd.jupyter.widget-view+json": {
       "model_id": "",
       "version_major": 2,
       "version_minor": 0
      },
      "text/plain": [
       "FloatProgress(value=0.0, bar_style='info', description='Progress:', layout=Layout(height='25px', width='50%'),…"
      ]
     },
     "metadata": {},
     "output_type": "display_data"
    }
   ],
   "source": [
    "user_features_2 = spark.sql(\"\"\"\n",
    "    SELECT \n",
    "        opp.user_id, \n",
    "        COUNT(opp.product_id) AS total_number_products, \n",
    "        COUNT(DISTINCT opp.product_id) AS total_number_distinct_products,\n",
    "        ROUND(SUM(opp.reordered) / COUNT(opp.order_id),2) AS reorder_ratio\n",
    "    FROM order_products_prior opp\n",
    "    GROUP BY opp.user_id\n",
    "\"\"\")"
   ]
  },
  {
   "cell_type": "code",
   "execution_count": 29,
   "id": "9d54255d-d840-4ff5-bb11-01399aac01f7",
   "metadata": {},
   "outputs": [
    {
     "data": {
      "application/vnd.jupyter.widget-view+json": {
       "model_id": "",
       "version_major": 2,
       "version_minor": 0
      },
      "text/plain": [
       "FloatProgress(value=0.0, bar_style='info', description='Progress:', layout=Layout(height='25px', width='50%'),…"
      ]
     },
     "metadata": {},
     "output_type": "display_data"
    },
    {
     "name": "stdout",
     "output_type": "stream",
     "text": [
      "+-------+---------------------+------------------------------+-------------+\n",
      "|user_id|total_number_products|total_number_distinct_products|reorder_ratio|\n",
      "+-------+---------------------+------------------------------+-------------+\n",
      "| 193548|                  242|                            89|         0.63|\n",
      "|  42370|                   40|                            35|         0.13|\n",
      "| 203842|                  292|                           111|         0.62|\n",
      "| 143593|                  159|                            60|         0.62|\n",
      "|  71627|                  139|                            84|          0.4|\n",
      "+-------+---------------------+------------------------------+-------------+\n",
      "only showing top 5 rows"
     ]
    }
   ],
   "source": [
    "user_features_2.show(5)"
   ]
  },
  {
   "cell_type": "code",
   "execution_count": 31,
   "id": "98d91a22-518c-4a3f-bd7b-ad5746de3fb8",
   "metadata": {},
   "outputs": [
    {
     "data": {
      "application/vnd.jupyter.widget-view+json": {
       "model_id": "",
       "version_major": 2,
       "version_minor": 0
      },
      "text/plain": [
       "FloatProgress(value=0.0, bar_style='info', description='Progress:', layout=Layout(height='25px', width='50%'),…"
      ]
     },
     "metadata": {},
     "output_type": "display_data"
    }
   ],
   "source": [
    "up_features = spark.sql(\"\"\"\n",
    "    SELECT\n",
    "        opp.user_id,\n",
    "        opp.product_id,\n",
    "        COUNT(opp.user_id) AS total_number_orders, \n",
    "        MIN(opp.order_number) AS min_order_number,\n",
    "        MAX(opp.order_number) AS max_order_number,\n",
    "        AVG(add_to_cart_order) AS average_add_cart_order\n",
    "    FROM order_products_prior opp\n",
    "    GROUP BY opp.user_id, opp.product_id\n",
    "\"\"\")"
   ]
  },
  {
   "cell_type": "code",
   "execution_count": 32,
   "id": "e05af35e-46d4-4cc7-ae2f-7bcdbf526f0b",
   "metadata": {},
   "outputs": [
    {
     "data": {
      "application/vnd.jupyter.widget-view+json": {
       "model_id": "",
       "version_major": 2,
       "version_minor": 0
      },
      "text/plain": [
       "FloatProgress(value=0.0, bar_style='info', description='Progress:', layout=Layout(height='25px', width='50%'),…"
      ]
     },
     "metadata": {},
     "output_type": "display_data"
    },
    {
     "name": "stdout",
     "output_type": "stream",
     "text": [
      "+-------+----------+-------------------+----------------+----------------+----------------------+\n",
      "|user_id|product_id|total_number_orders|min_order_number|max_order_number|average_add_cart_order|\n",
      "+-------+----------+-------------------+----------------+----------------+----------------------+\n",
      "|     10|     13212|                  1|               2|               2|                  39.0|\n",
      "|     10|     23541|                  2|               4|               5|                  18.5|\n",
      "|     10|     44359|                  1|               3|               3|                   6.0|\n",
      "|    100|      6975|                  1|               3|               3|                   4.0|\n",
      "|   1000|     29987|                  2|               2|               3|                  13.5|\n",
      "+-------+----------+-------------------+----------------+----------------+----------------------+\n",
      "only showing top 5 rows"
     ]
    }
   ],
   "source": [
    "up_features.show(5)"
   ]
  },
  {
   "cell_type": "code",
   "execution_count": 48,
   "id": "9aaa2875-876a-4c8a-951e-15c9c41a9bcf",
   "metadata": {},
   "outputs": [
    {
     "data": {
      "application/vnd.jupyter.widget-view+json": {
       "model_id": "",
       "version_major": 2,
       "version_minor": 0
      },
      "text/plain": [
       "FloatProgress(value=0.0, bar_style='info', description='Progress:', layout=Layout(height='25px', width='50%'),…"
      ]
     },
     "metadata": {},
     "output_type": "display_data"
    },
    {
     "name": "stdout",
     "output_type": "stream",
     "text": [
      "+----------+----------------+--------------+----------------+\n",
      "|product_id|count(reordered)|sum(reordered)|product_seq_time|\n",
      "+----------+----------------+--------------+----------------+\n",
      "|         1|             276|         185.0|               2|\n",
      "|         1|             716|         198.0|               1|\n",
      "|        10|             399|         277.0|               2|\n",
      "|        10|            1268|         245.0|               1|\n",
      "|       100|             192|          48.0|               1|\n",
      "|       100|              80|          56.0|               2|\n",
      "|      1000|             421|         262.0|               2|\n",
      "|      1000|            1545|         271.0|               1|\n",
      "|     10000|               7|           1.0|               1|\n",
      "|     10000|               2|           1.0|               2|\n",
      "+----------+----------------+--------------+----------------+\n",
      "only showing top 10 rows"
     ]
    }
   ],
   "source": [
    "prd_features = spark.sql(\"\"\"\n",
    "    WITH product_sequences AS (\n",
    "        SELECT\n",
    "            opp.user_id,\n",
    "            opp.order_id,\n",
    "            opp.product_id,\n",
    "            opp.reordered,\n",
    "            ROW_NUMBER() OVER (PARTITION BY opp.user_id, opp.product_id ORDER BY opp.order_id) AS product_seq_time\n",
    "        FROM order_products_prior opp\n",
    "    )\n",
    "    SELECT \n",
    "        product_id,\n",
    "        COUNT(reordered),\n",
    "        SUM(reordered),\n",
    "        product_seq_time\n",
    "    FROM product_sequences\n",
    "    WHERE product_seq_time IN (1, 2)     \n",
    "    GROUP BY product_id, product_seq_time\n",
    "    ORDER BY product_id\n",
    "\n",
    "\"\"\")\n",
    "prd_features.show(10)"
   ]
  },
  {
   "cell_type": "code",
   "execution_count": 50,
   "id": "ca169bff-c391-4127-84aa-b1899741e967",
   "metadata": {},
   "outputs": [
    {
     "data": {
      "application/vnd.jupyter.widget-view+json": {
       "model_id": "",
       "version_major": 2,
       "version_minor": 0
      },
      "text/plain": [
       "FloatProgress(value=0.0, bar_style='info', description='Progress:', layout=Layout(height='25px', width='50%'),…"
      ]
     },
     "metadata": {},
     "output_type": "display_data"
    },
    {
     "name": "stdout",
     "output_type": "stream",
     "text": [
      "+-------+--------+----------+---------+----------------+\n",
      "|user_id|order_id|product_id|reordered|product_seq_time|\n",
      "+-------+--------+----------+---------+----------------+\n",
      "| 119163| 2517311|         1|        0|               1|\n",
      "| 181697| 1817414|         1|        1|               7|\n",
      "| 159791|  491203|         1|        0|               1|\n",
      "| 112110| 1673704|         1|        0|               1|\n",
      "| 163386| 1870503|         1|        1|               1|\n",
      "| 181697| 1568474|         1|        1|               2|\n",
      "| 181697|  159230|         1|        1|               3|\n",
      "| 105870|  679521|         1|        0|               1|\n",
      "| 181697| 1620454|         1|        1|               4|\n",
      "| 163386| 2542360|         1|        0|               2|\n",
      "+-------+--------+----------+---------+----------------+\n",
      "only showing top 10 rows"
     ]
    }
   ],
   "source": [
    "test = spark.sql(\"\"\"\n",
    "        SELECT\n",
    "            opp.user_id,\n",
    "            opp.order_id,\n",
    "            opp.product_id,\n",
    "            opp.reordered,\n",
    "            ROW_NUMBER() OVER (PARTITION BY opp.user_id, opp.product_id ORDER BY opp.order_id) AS product_seq_time\n",
    "        FROM order_products_prior opp \n",
    "        ORDER BY product_id\n",
    "        \"\"\")\n",
    "test.show(10)"
   ]
  },
  {
   "cell_type": "code",
   "execution_count": null,
   "id": "a9c4bf7a-1ed0-4205-b4f3-eb827c2fbf52",
   "metadata": {},
   "outputs": [],
   "source": []
  }
 ],
 "metadata": {
  "kernelspec": {
   "display_name": "PySpark",
   "language": "python",
   "name": "pysparkkernel"
  },
  "language_info": {
   "codemirror_mode": {
    "name": "python",
    "version": 3
   },
   "file_extension": ".py",
   "mimetype": "text/x-python",
   "name": "pyspark",
   "pygments_lexer": "python3"
  }
 },
 "nbformat": 4,
 "nbformat_minor": 5
}
